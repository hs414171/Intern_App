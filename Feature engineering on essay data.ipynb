{
 "cells": [
  {
   "cell_type": "code",
   "execution_count": 593,
   "id": "bf1067d1",
   "metadata": {},
   "outputs": [],
   "source": [
    "import pandas as pd\n",
    "import numpy as np"
   ]
  },
  {
   "cell_type": "markdown",
   "id": "a0b0fdc4",
   "metadata": {},
   "source": [
    "# Scoring Rubrics\n",
    "## Essay – 1\n",
    "    Scoring:\tScore1, Score2, Resolved Score\n",
    "    Rubric range:\t1-6\n",
    "    Resolved score range:\t2-12\n",
    "\n",
    "## Essay – 2\n",
    "\n",
    "    Domain 1 (Writing Applications) Rubric range:\t1-6\n",
    "    Domain 2 (Language Conventions) Rubric range:\t1-4\n",
    "    Domain 1 (Writing Applications) Final score range:\t1-6\n",
    "    Domain 2 (Language Conventions) Final score range:\t1-4\n",
    "\n",
    "## Essay – 3\n",
    "    Scoring:\t1st Reader Score, 2nd Reader Score, Resolved CR Score\n",
    "    Rubric range:\t0-3\n",
    "    Resolved CR score range:\t0-3\n",
    "\n",
    "## Essay-4\n",
    "    Scoring:\t1st Reader Score, 2nd Reader Score, Resolved CR Score\n",
    "    Rubric range:\t0-3\n",
    "    Resolved CR score range:\t0-3\n",
    "\n",
    "## Essay-5\n",
    "    Scoring:\tFinal, Score1, Score2 \n",
    "    Final score range:\t0-4\n",
    "    Rubric range:\t0-4\n",
    "\n",
    "## Essay -6 \n",
    "    Scoring:\tFinal, Score1, Score2 \n",
    "    Final score range:\t0-4\n",
    "    Rubric range:\t0-4\n",
    "\n",
    "## Essay -7\n",
    "    Scoring:\tRater_1, Rater_2, Resolved_Score\n",
    "    Rubric range:\t0-15\n",
    "    Resolved score range:\t0-30\n",
    "\n",
    "## Essay-8\n",
    "    Scoring:\tRater1Comp, Rater2Comp, Rater3Comp, Resolved Score\n",
    "    Rater1Comp Rubric range:\t0-30\n",
    "    Rater2Comp Rubric range:\t0-30\n",
    "    Rater3Comp Rubric range:\t0-60\n",
    "    Resolved score range:\t0-60"
   ]
  },
  {
   "cell_type": "code",
   "execution_count": 594,
   "id": "abbe5f25",
   "metadata": {},
   "outputs": [],
   "source": [
    "df = pd.read_excel('training_set_rel3.xlsx')"
   ]
  },
  {
   "cell_type": "code",
   "execution_count": 595,
   "id": "34089c0f",
   "metadata": {},
   "outputs": [
    {
     "data": {
      "text/html": [
       "<div>\n",
       "<style scoped>\n",
       "    .dataframe tbody tr th:only-of-type {\n",
       "        vertical-align: middle;\n",
       "    }\n",
       "\n",
       "    .dataframe tbody tr th {\n",
       "        vertical-align: top;\n",
       "    }\n",
       "\n",
       "    .dataframe thead th {\n",
       "        text-align: right;\n",
       "    }\n",
       "</style>\n",
       "<table border=\"1\" class=\"dataframe\">\n",
       "  <thead>\n",
       "    <tr style=\"text-align: right;\">\n",
       "      <th></th>\n",
       "      <th>essay_id</th>\n",
       "      <th>essay_set</th>\n",
       "      <th>essay</th>\n",
       "      <th>rater1_domain1</th>\n",
       "      <th>rater2_domain1</th>\n",
       "      <th>rater3_domain1</th>\n",
       "      <th>domain1_score</th>\n",
       "      <th>rater1_domain2</th>\n",
       "      <th>rater2_domain2</th>\n",
       "      <th>domain2_score</th>\n",
       "      <th>...</th>\n",
       "      <th>rater2_trait3</th>\n",
       "      <th>rater2_trait4</th>\n",
       "      <th>rater2_trait5</th>\n",
       "      <th>rater2_trait6</th>\n",
       "      <th>rater3_trait1</th>\n",
       "      <th>rater3_trait2</th>\n",
       "      <th>rater3_trait3</th>\n",
       "      <th>rater3_trait4</th>\n",
       "      <th>rater3_trait5</th>\n",
       "      <th>rater3_trait6</th>\n",
       "    </tr>\n",
       "  </thead>\n",
       "  <tbody>\n",
       "    <tr>\n",
       "      <th>0</th>\n",
       "      <td>1</td>\n",
       "      <td>1</td>\n",
       "      <td>Dear local newspaper, I think effects computer...</td>\n",
       "      <td>4</td>\n",
       "      <td>4</td>\n",
       "      <td>NaN</td>\n",
       "      <td>8</td>\n",
       "      <td>NaN</td>\n",
       "      <td>NaN</td>\n",
       "      <td>NaN</td>\n",
       "      <td>...</td>\n",
       "      <td>NaN</td>\n",
       "      <td>NaN</td>\n",
       "      <td>NaN</td>\n",
       "      <td>NaN</td>\n",
       "      <td>NaN</td>\n",
       "      <td>NaN</td>\n",
       "      <td>NaN</td>\n",
       "      <td>NaN</td>\n",
       "      <td>NaN</td>\n",
       "      <td>NaN</td>\n",
       "    </tr>\n",
       "    <tr>\n",
       "      <th>1</th>\n",
       "      <td>2</td>\n",
       "      <td>1</td>\n",
       "      <td>Dear @CAPS1 @CAPS2, I believe that using compu...</td>\n",
       "      <td>5</td>\n",
       "      <td>4</td>\n",
       "      <td>NaN</td>\n",
       "      <td>9</td>\n",
       "      <td>NaN</td>\n",
       "      <td>NaN</td>\n",
       "      <td>NaN</td>\n",
       "      <td>...</td>\n",
       "      <td>NaN</td>\n",
       "      <td>NaN</td>\n",
       "      <td>NaN</td>\n",
       "      <td>NaN</td>\n",
       "      <td>NaN</td>\n",
       "      <td>NaN</td>\n",
       "      <td>NaN</td>\n",
       "      <td>NaN</td>\n",
       "      <td>NaN</td>\n",
       "      <td>NaN</td>\n",
       "    </tr>\n",
       "    <tr>\n",
       "      <th>2</th>\n",
       "      <td>3</td>\n",
       "      <td>1</td>\n",
       "      <td>Dear, @CAPS1 @CAPS2 @CAPS3 More and more peopl...</td>\n",
       "      <td>4</td>\n",
       "      <td>3</td>\n",
       "      <td>NaN</td>\n",
       "      <td>7</td>\n",
       "      <td>NaN</td>\n",
       "      <td>NaN</td>\n",
       "      <td>NaN</td>\n",
       "      <td>...</td>\n",
       "      <td>NaN</td>\n",
       "      <td>NaN</td>\n",
       "      <td>NaN</td>\n",
       "      <td>NaN</td>\n",
       "      <td>NaN</td>\n",
       "      <td>NaN</td>\n",
       "      <td>NaN</td>\n",
       "      <td>NaN</td>\n",
       "      <td>NaN</td>\n",
       "      <td>NaN</td>\n",
       "    </tr>\n",
       "    <tr>\n",
       "      <th>3</th>\n",
       "      <td>4</td>\n",
       "      <td>1</td>\n",
       "      <td>Dear Local Newspaper, @CAPS1 I have found that...</td>\n",
       "      <td>5</td>\n",
       "      <td>5</td>\n",
       "      <td>NaN</td>\n",
       "      <td>10</td>\n",
       "      <td>NaN</td>\n",
       "      <td>NaN</td>\n",
       "      <td>NaN</td>\n",
       "      <td>...</td>\n",
       "      <td>NaN</td>\n",
       "      <td>NaN</td>\n",
       "      <td>NaN</td>\n",
       "      <td>NaN</td>\n",
       "      <td>NaN</td>\n",
       "      <td>NaN</td>\n",
       "      <td>NaN</td>\n",
       "      <td>NaN</td>\n",
       "      <td>NaN</td>\n",
       "      <td>NaN</td>\n",
       "    </tr>\n",
       "    <tr>\n",
       "      <th>4</th>\n",
       "      <td>5</td>\n",
       "      <td>1</td>\n",
       "      <td>Dear @LOCATION1, I know having computers has a...</td>\n",
       "      <td>4</td>\n",
       "      <td>4</td>\n",
       "      <td>NaN</td>\n",
       "      <td>8</td>\n",
       "      <td>NaN</td>\n",
       "      <td>NaN</td>\n",
       "      <td>NaN</td>\n",
       "      <td>...</td>\n",
       "      <td>NaN</td>\n",
       "      <td>NaN</td>\n",
       "      <td>NaN</td>\n",
       "      <td>NaN</td>\n",
       "      <td>NaN</td>\n",
       "      <td>NaN</td>\n",
       "      <td>NaN</td>\n",
       "      <td>NaN</td>\n",
       "      <td>NaN</td>\n",
       "      <td>NaN</td>\n",
       "    </tr>\n",
       "  </tbody>\n",
       "</table>\n",
       "<p>5 rows × 28 columns</p>\n",
       "</div>"
      ],
      "text/plain": [
       "   essay_id  essay_set                                              essay  \\\n",
       "0         1          1  Dear local newspaper, I think effects computer...   \n",
       "1         2          1  Dear @CAPS1 @CAPS2, I believe that using compu...   \n",
       "2         3          1  Dear, @CAPS1 @CAPS2 @CAPS3 More and more peopl...   \n",
       "3         4          1  Dear Local Newspaper, @CAPS1 I have found that...   \n",
       "4         5          1  Dear @LOCATION1, I know having computers has a...   \n",
       "\n",
       "   rater1_domain1  rater2_domain1  rater3_domain1  domain1_score  \\\n",
       "0               4               4             NaN              8   \n",
       "1               5               4             NaN              9   \n",
       "2               4               3             NaN              7   \n",
       "3               5               5             NaN             10   \n",
       "4               4               4             NaN              8   \n",
       "\n",
       "   rater1_domain2  rater2_domain2  domain2_score  ...  rater2_trait3  \\\n",
       "0             NaN             NaN            NaN  ...            NaN   \n",
       "1             NaN             NaN            NaN  ...            NaN   \n",
       "2             NaN             NaN            NaN  ...            NaN   \n",
       "3             NaN             NaN            NaN  ...            NaN   \n",
       "4             NaN             NaN            NaN  ...            NaN   \n",
       "\n",
       "   rater2_trait4  rater2_trait5  rater2_trait6  rater3_trait1  rater3_trait2  \\\n",
       "0            NaN            NaN            NaN            NaN            NaN   \n",
       "1            NaN            NaN            NaN            NaN            NaN   \n",
       "2            NaN            NaN            NaN            NaN            NaN   \n",
       "3            NaN            NaN            NaN            NaN            NaN   \n",
       "4            NaN            NaN            NaN            NaN            NaN   \n",
       "\n",
       "   rater3_trait3  rater3_trait4  rater3_trait5  rater3_trait6  \n",
       "0            NaN            NaN            NaN            NaN  \n",
       "1            NaN            NaN            NaN            NaN  \n",
       "2            NaN            NaN            NaN            NaN  \n",
       "3            NaN            NaN            NaN            NaN  \n",
       "4            NaN            NaN            NaN            NaN  \n",
       "\n",
       "[5 rows x 28 columns]"
      ]
     },
     "execution_count": 595,
     "metadata": {},
     "output_type": "execute_result"
    }
   ],
   "source": [
    "df.head()"
   ]
  },
  {
   "cell_type": "code",
   "execution_count": 596,
   "id": "d91b5581",
   "metadata": {},
   "outputs": [
    {
     "data": {
      "text/plain": [
       "Index(['essay_id', 'essay_set', 'essay', 'rater1_domain1', 'rater2_domain1',\n",
       "       'rater3_domain1', 'domain1_score', 'rater1_domain2', 'rater2_domain2',\n",
       "       'domain2_score', 'rater1_trait1', 'rater1_trait2', 'rater1_trait3',\n",
       "       'rater1_trait4', 'rater1_trait5', 'rater1_trait6', 'rater2_trait1',\n",
       "       'rater2_trait2', 'rater2_trait3', 'rater2_trait4', 'rater2_trait5',\n",
       "       'rater2_trait6', 'rater3_trait1', 'rater3_trait2', 'rater3_trait3',\n",
       "       'rater3_trait4', 'rater3_trait5', 'rater3_trait6'],\n",
       "      dtype='object')"
      ]
     },
     "execution_count": 596,
     "metadata": {},
     "output_type": "execute_result"
    }
   ],
   "source": [
    "df.columns"
   ]
  },
  {
   "cell_type": "markdown",
   "id": "7df46432",
   "metadata": {},
   "source": [
    "### dropping essay_id since it serves no need "
   ]
  },
  {
   "cell_type": "code",
   "execution_count": 597,
   "id": "e180305a",
   "metadata": {},
   "outputs": [],
   "source": [
    "df.drop(['essay_id'],axis=1,inplace = True)"
   ]
  },
  {
   "cell_type": "code",
   "execution_count": 598,
   "id": "e3e293be",
   "metadata": {},
   "outputs": [
    {
     "data": {
      "text/html": [
       "<div>\n",
       "<style scoped>\n",
       "    .dataframe tbody tr th:only-of-type {\n",
       "        vertical-align: middle;\n",
       "    }\n",
       "\n",
       "    .dataframe tbody tr th {\n",
       "        vertical-align: top;\n",
       "    }\n",
       "\n",
       "    .dataframe thead th {\n",
       "        text-align: right;\n",
       "    }\n",
       "</style>\n",
       "<table border=\"1\" class=\"dataframe\">\n",
       "  <thead>\n",
       "    <tr style=\"text-align: right;\">\n",
       "      <th></th>\n",
       "      <th>essay_set</th>\n",
       "      <th>essay</th>\n",
       "      <th>rater1_domain1</th>\n",
       "      <th>rater2_domain1</th>\n",
       "      <th>rater3_domain1</th>\n",
       "      <th>domain1_score</th>\n",
       "      <th>rater1_domain2</th>\n",
       "      <th>rater2_domain2</th>\n",
       "      <th>domain2_score</th>\n",
       "      <th>rater1_trait1</th>\n",
       "      <th>...</th>\n",
       "      <th>rater2_trait3</th>\n",
       "      <th>rater2_trait4</th>\n",
       "      <th>rater2_trait5</th>\n",
       "      <th>rater2_trait6</th>\n",
       "      <th>rater3_trait1</th>\n",
       "      <th>rater3_trait2</th>\n",
       "      <th>rater3_trait3</th>\n",
       "      <th>rater3_trait4</th>\n",
       "      <th>rater3_trait5</th>\n",
       "      <th>rater3_trait6</th>\n",
       "    </tr>\n",
       "  </thead>\n",
       "  <tbody>\n",
       "    <tr>\n",
       "      <th>0</th>\n",
       "      <td>1</td>\n",
       "      <td>Dear local newspaper, I think effects computer...</td>\n",
       "      <td>4</td>\n",
       "      <td>4</td>\n",
       "      <td>NaN</td>\n",
       "      <td>8</td>\n",
       "      <td>NaN</td>\n",
       "      <td>NaN</td>\n",
       "      <td>NaN</td>\n",
       "      <td>NaN</td>\n",
       "      <td>...</td>\n",
       "      <td>NaN</td>\n",
       "      <td>NaN</td>\n",
       "      <td>NaN</td>\n",
       "      <td>NaN</td>\n",
       "      <td>NaN</td>\n",
       "      <td>NaN</td>\n",
       "      <td>NaN</td>\n",
       "      <td>NaN</td>\n",
       "      <td>NaN</td>\n",
       "      <td>NaN</td>\n",
       "    </tr>\n",
       "    <tr>\n",
       "      <th>1</th>\n",
       "      <td>1</td>\n",
       "      <td>Dear @CAPS1 @CAPS2, I believe that using compu...</td>\n",
       "      <td>5</td>\n",
       "      <td>4</td>\n",
       "      <td>NaN</td>\n",
       "      <td>9</td>\n",
       "      <td>NaN</td>\n",
       "      <td>NaN</td>\n",
       "      <td>NaN</td>\n",
       "      <td>NaN</td>\n",
       "      <td>...</td>\n",
       "      <td>NaN</td>\n",
       "      <td>NaN</td>\n",
       "      <td>NaN</td>\n",
       "      <td>NaN</td>\n",
       "      <td>NaN</td>\n",
       "      <td>NaN</td>\n",
       "      <td>NaN</td>\n",
       "      <td>NaN</td>\n",
       "      <td>NaN</td>\n",
       "      <td>NaN</td>\n",
       "    </tr>\n",
       "  </tbody>\n",
       "</table>\n",
       "<p>2 rows × 27 columns</p>\n",
       "</div>"
      ],
      "text/plain": [
       "   essay_set                                              essay  \\\n",
       "0          1  Dear local newspaper, I think effects computer...   \n",
       "1          1  Dear @CAPS1 @CAPS2, I believe that using compu...   \n",
       "\n",
       "   rater1_domain1  rater2_domain1  rater3_domain1  domain1_score  \\\n",
       "0               4               4             NaN              8   \n",
       "1               5               4             NaN              9   \n",
       "\n",
       "   rater1_domain2  rater2_domain2  domain2_score  rater1_trait1  ...  \\\n",
       "0             NaN             NaN            NaN            NaN  ...   \n",
       "1             NaN             NaN            NaN            NaN  ...   \n",
       "\n",
       "   rater2_trait3  rater2_trait4  rater2_trait5  rater2_trait6  rater3_trait1  \\\n",
       "0            NaN            NaN            NaN            NaN            NaN   \n",
       "1            NaN            NaN            NaN            NaN            NaN   \n",
       "\n",
       "   rater3_trait2  rater3_trait3  rater3_trait4  rater3_trait5  rater3_trait6  \n",
       "0            NaN            NaN            NaN            NaN            NaN  \n",
       "1            NaN            NaN            NaN            NaN            NaN  \n",
       "\n",
       "[2 rows x 27 columns]"
      ]
     },
     "execution_count": 598,
     "metadata": {},
     "output_type": "execute_result"
    }
   ],
   "source": [
    "df.head(2)"
   ]
  },
  {
   "cell_type": "markdown",
   "id": "930d3551",
   "metadata": {},
   "source": [
    "### making different dataset for each essay set to get all the scores required"
   ]
  },
  {
   "cell_type": "code",
   "execution_count": 599,
   "id": "56d40e0e",
   "metadata": {},
   "outputs": [],
   "source": [
    "df_one = df[df['essay_set']==1]"
   ]
  },
  {
   "cell_type": "code",
   "execution_count": 600,
   "id": "f70a8b11",
   "metadata": {},
   "outputs": [
    {
     "data": {
      "text/plain": [
       "(1783, 27)"
      ]
     },
     "execution_count": 600,
     "metadata": {},
     "output_type": "execute_result"
    }
   ],
   "source": [
    "df_one.shape"
   ]
  },
  {
   "cell_type": "code",
   "execution_count": 601,
   "id": "62f30885",
   "metadata": {},
   "outputs": [],
   "source": [
    "df_two = df[df['essay_set']==2].reset_index()\n",
    "df_three = df[df['essay_set']==3].reset_index()\n",
    "df_four = df[df['essay_set']==4].reset_index()\n",
    "df_five = df[df['essay_set']==5].reset_index()\n",
    "df_six = df[df['essay_set']==6].reset_index()\n",
    "df_seven = df[df['essay_set']==7].reset_index()\n",
    "df_eight = df[df['essay_set']==8].reset_index()"
   ]
  },
  {
   "cell_type": "code",
   "execution_count": 602,
   "id": "6f9429bd",
   "metadata": {},
   "outputs": [
    {
     "name": "stdout",
     "output_type": "stream",
     "text": [
      "(1800, 28) (1726, 28) (1771, 28) (1805, 28) (1800, 28) (1569, 28) (723, 28)\n"
     ]
    }
   ],
   "source": [
    "print(df_two.shape,\n",
    "df_three.shape,\n",
    "df_four.shape,  \n",
    "df_five.shape, \n",
    "df_six.shape, \n",
    "df_seven.shape, \n",
    "df_eight.shape)"
   ]
  },
  {
   "cell_type": "code",
   "execution_count": 603,
   "id": "8faf5fa6",
   "metadata": {
    "scrolled": true
   },
   "outputs": [
    {
     "data": {
      "text/plain": [
       "essay_set             0\n",
       "essay                 0\n",
       "rater1_domain1        0\n",
       "rater2_domain1        0\n",
       "rater3_domain1    12849\n",
       "domain1_score         0\n",
       "rater1_domain2    11177\n",
       "rater2_domain2    11177\n",
       "domain2_score     11177\n",
       "rater1_trait1     10685\n",
       "rater1_trait2     10685\n",
       "rater1_trait3     10685\n",
       "rater1_trait4     10685\n",
       "rater1_trait5     12254\n",
       "rater1_trait6     12254\n",
       "rater2_trait1     10685\n",
       "rater2_trait2     10685\n",
       "rater2_trait3     10685\n",
       "rater2_trait4     10685\n",
       "rater2_trait5     12254\n",
       "rater2_trait6     12254\n",
       "rater3_trait1     12849\n",
       "rater3_trait2     12849\n",
       "rater3_trait3     12849\n",
       "rater3_trait4     12849\n",
       "rater3_trait5     12849\n",
       "rater3_trait6     12849\n",
       "dtype: int64"
      ]
     },
     "execution_count": 603,
     "metadata": {},
     "output_type": "execute_result"
    }
   ],
   "source": [
    "df.isnull().sum()"
   ]
  },
  {
   "cell_type": "markdown",
   "id": "e58b7f86",
   "metadata": {},
   "source": [
    "### Here we can see domain_1 score = rater1_domain1+rater2_domain1 therefore we drop the columns"
   ]
  },
  {
   "cell_type": "code",
   "execution_count": 604,
   "id": "c6aea4f2",
   "metadata": {},
   "outputs": [
    {
     "name": "stderr",
     "output_type": "stream",
     "text": [
      "C:\\Users\\hs414\\AppData\\Local\\Temp\\ipykernel_3052\\1690063876.py:3: SettingWithCopyWarning: \n",
      "A value is trying to be set on a copy of a slice from a DataFrame\n",
      "\n",
      "See the caveats in the documentation: https://pandas.pydata.org/pandas-docs/stable/user_guide/indexing.html#returning-a-view-versus-a-copy\n",
      "  df_one.drop(columns_with_nulls,axis=1,inplace = True)\n",
      "C:\\Users\\hs414\\AppData\\Local\\Temp\\ipykernel_3052\\1690063876.py:4: SettingWithCopyWarning: \n",
      "A value is trying to be set on a copy of a slice from a DataFrame\n",
      "\n",
      "See the caveats in the documentation: https://pandas.pydata.org/pandas-docs/stable/user_guide/indexing.html#returning-a-view-versus-a-copy\n",
      "  df_one.drop(['rater1_domain1','rater2_domain1'],axis = 1,inplace = True)\n"
     ]
    },
    {
     "data": {
      "text/html": [
       "<div>\n",
       "<style scoped>\n",
       "    .dataframe tbody tr th:only-of-type {\n",
       "        vertical-align: middle;\n",
       "    }\n",
       "\n",
       "    .dataframe tbody tr th {\n",
       "        vertical-align: top;\n",
       "    }\n",
       "\n",
       "    .dataframe thead th {\n",
       "        text-align: right;\n",
       "    }\n",
       "</style>\n",
       "<table border=\"1\" class=\"dataframe\">\n",
       "  <thead>\n",
       "    <tr style=\"text-align: right;\">\n",
       "      <th></th>\n",
       "      <th>essay_set</th>\n",
       "      <th>essay</th>\n",
       "      <th>domain1_score</th>\n",
       "    </tr>\n",
       "  </thead>\n",
       "  <tbody>\n",
       "    <tr>\n",
       "      <th>0</th>\n",
       "      <td>1</td>\n",
       "      <td>Dear local newspaper, I think effects computer...</td>\n",
       "      <td>8</td>\n",
       "    </tr>\n",
       "    <tr>\n",
       "      <th>1</th>\n",
       "      <td>1</td>\n",
       "      <td>Dear @CAPS1 @CAPS2, I believe that using compu...</td>\n",
       "      <td>9</td>\n",
       "    </tr>\n",
       "    <tr>\n",
       "      <th>2</th>\n",
       "      <td>1</td>\n",
       "      <td>Dear, @CAPS1 @CAPS2 @CAPS3 More and more peopl...</td>\n",
       "      <td>7</td>\n",
       "    </tr>\n",
       "  </tbody>\n",
       "</table>\n",
       "</div>"
      ],
      "text/plain": [
       "   essay_set                                              essay  domain1_score\n",
       "0          1  Dear local newspaper, I think effects computer...              8\n",
       "1          1  Dear @CAPS1 @CAPS2, I believe that using compu...              9\n",
       "2          1  Dear, @CAPS1 @CAPS2 @CAPS3 More and more peopl...              7"
      ]
     },
     "execution_count": 604,
     "metadata": {},
     "output_type": "execute_result"
    }
   ],
   "source": [
    "null_counts = df_one.isnull().sum()\n",
    "columns_with_nulls = null_counts[null_counts > 1].index.tolist()\n",
    "df_one.drop(columns_with_nulls,axis=1,inplace = True)\n",
    "df_one.drop(['rater1_domain1','rater2_domain1'],axis = 1,inplace = True)\n",
    "df_one.head(3)"
   ]
  },
  {
   "cell_type": "code",
   "execution_count": null,
   "id": "10378b13",
   "metadata": {},
   "outputs": [],
   "source": []
  },
  {
   "cell_type": "code",
   "execution_count": null,
   "id": "04af4985",
   "metadata": {},
   "outputs": [],
   "source": []
  },
  {
   "cell_type": "code",
   "execution_count": null,
   "id": "af72f4fd",
   "metadata": {},
   "outputs": [],
   "source": []
  },
  {
   "cell_type": "code",
   "execution_count": null,
   "id": "58865d91",
   "metadata": {},
   "outputs": [],
   "source": []
  },
  {
   "cell_type": "code",
   "execution_count": null,
   "id": "dee0042a",
   "metadata": {},
   "outputs": [],
   "source": []
  },
  {
   "cell_type": "code",
   "execution_count": null,
   "id": "ab25a4a5",
   "metadata": {},
   "outputs": [],
   "source": []
  },
  {
   "cell_type": "markdown",
   "id": "2e5249e6",
   "metadata": {},
   "source": [
    "### for essay_set = 2 we got scores on the basis of Writing Applications and Language Conventions therefor we added it to get the combined score also now the rubric range of the final score is 2-10"
   ]
  },
  {
   "cell_type": "code",
   "execution_count": 605,
   "id": "7427b03f",
   "metadata": {},
   "outputs": [
    {
     "data": {
      "text/html": [
       "<div>\n",
       "<style scoped>\n",
       "    .dataframe tbody tr th:only-of-type {\n",
       "        vertical-align: middle;\n",
       "    }\n",
       "\n",
       "    .dataframe tbody tr th {\n",
       "        vertical-align: top;\n",
       "    }\n",
       "\n",
       "    .dataframe thead th {\n",
       "        text-align: right;\n",
       "    }\n",
       "</style>\n",
       "<table border=\"1\" class=\"dataframe\">\n",
       "  <thead>\n",
       "    <tr style=\"text-align: right;\">\n",
       "      <th></th>\n",
       "      <th>essay_set</th>\n",
       "      <th>essay</th>\n",
       "      <th>domain1_score</th>\n",
       "    </tr>\n",
       "  </thead>\n",
       "  <tbody>\n",
       "    <tr>\n",
       "      <th>0</th>\n",
       "      <td>2</td>\n",
       "      <td>Certain materials being removed from libraries...</td>\n",
       "      <td>8</td>\n",
       "    </tr>\n",
       "    <tr>\n",
       "      <th>1</th>\n",
       "      <td>2</td>\n",
       "      <td>Write a persuasive essay to a newspaper reflec...</td>\n",
       "      <td>2</td>\n",
       "    </tr>\n",
       "    <tr>\n",
       "      <th>2</th>\n",
       "      <td>2</td>\n",
       "      <td>Do you think that libraries should remove cert...</td>\n",
       "      <td>5</td>\n",
       "    </tr>\n",
       "  </tbody>\n",
       "</table>\n",
       "</div>"
      ],
      "text/plain": [
       "   essay_set                                              essay  domain1_score\n",
       "0          2  Certain materials being removed from libraries...              8\n",
       "1          2  Write a persuasive essay to a newspaper reflec...              2\n",
       "2          2  Do you think that libraries should remove cert...              5"
      ]
     },
     "execution_count": 605,
     "metadata": {},
     "output_type": "execute_result"
    }
   ],
   "source": [
    "null_counts = df_two.isnull().sum()\n",
    "columns_with_nulls = null_counts[null_counts > 1].index.tolist()\n",
    "df_two.drop(columns_with_nulls,axis=1,inplace = True)\n",
    "df_two['domain1_score'] = df_two['domain1_score'].astype(int)+df_two['domain2_score'].astype(int)\n",
    "df_two.drop(['rater1_domain1','rater2_domain1','rater1_domain2','rater2_domain2','domain2_score','index'],axis=1,inplace=True)\n",
    "df_two.head(3)"
   ]
  },
  {
   "cell_type": "code",
   "execution_count": 606,
   "id": "ca805415",
   "metadata": {
    "scrolled": true
   },
   "outputs": [
    {
     "data": {
      "text/plain": [
       "0        True\n",
       "1        True\n",
       "2        True\n",
       "3        True\n",
       "4        True\n",
       "        ...  \n",
       "1721     True\n",
       "1722     True\n",
       "1723    False\n",
       "1724     True\n",
       "1725    False\n",
       "Length: 1726, dtype: bool"
      ]
     },
     "execution_count": 606,
     "metadata": {},
     "output_type": "execute_result"
    }
   ],
   "source": [
    "df_three['rater1_domain1'] == df_three['rater2_domain1']"
   ]
  },
  {
   "cell_type": "markdown",
   "id": "9334ea58",
   "metadata": {},
   "source": [
    "###  for essay_set = 3 the combined score is max(rater_domain1,rater_domain2)"
   ]
  },
  {
   "cell_type": "code",
   "execution_count": 607,
   "id": "2e7b5075",
   "metadata": {},
   "outputs": [
    {
     "data": {
      "text/html": [
       "<div>\n",
       "<style scoped>\n",
       "    .dataframe tbody tr th:only-of-type {\n",
       "        vertical-align: middle;\n",
       "    }\n",
       "\n",
       "    .dataframe tbody tr th {\n",
       "        vertical-align: top;\n",
       "    }\n",
       "\n",
       "    .dataframe thead th {\n",
       "        text-align: right;\n",
       "    }\n",
       "</style>\n",
       "<table border=\"1\" class=\"dataframe\">\n",
       "  <thead>\n",
       "    <tr style=\"text-align: right;\">\n",
       "      <th></th>\n",
       "      <th>essay_set</th>\n",
       "      <th>essay</th>\n",
       "      <th>domain1_score</th>\n",
       "    </tr>\n",
       "  </thead>\n",
       "  <tbody>\n",
       "    <tr>\n",
       "      <th>0</th>\n",
       "      <td>3</td>\n",
       "      <td>The features of the setting affect the cyclist...</td>\n",
       "      <td>1</td>\n",
       "    </tr>\n",
       "    <tr>\n",
       "      <th>1</th>\n",
       "      <td>3</td>\n",
       "      <td>The features of the setting affected the cycli...</td>\n",
       "      <td>2</td>\n",
       "    </tr>\n",
       "    <tr>\n",
       "      <th>2</th>\n",
       "      <td>3</td>\n",
       "      <td>Everyone travels to unfamiliar places. Sometim...</td>\n",
       "      <td>1</td>\n",
       "    </tr>\n",
       "  </tbody>\n",
       "</table>\n",
       "</div>"
      ],
      "text/plain": [
       "   essay_set                                              essay  domain1_score\n",
       "0          3  The features of the setting affect the cyclist...              1\n",
       "1          3  The features of the setting affected the cycli...              2\n",
       "2          3  Everyone travels to unfamiliar places. Sometim...              1"
      ]
     },
     "execution_count": 607,
     "metadata": {},
     "output_type": "execute_result"
    }
   ],
   "source": [
    "null_counts = df_three.isnull().sum()\n",
    "columns_with_nulls = null_counts[null_counts > 1].index.tolist()\n",
    "df_three.drop(columns_with_nulls,axis=1,inplace = True)\n",
    "df_three.head()\n",
    "df_three.drop(['rater1_domain1','rater2_domain1','index'],axis = 1,inplace = True)\n",
    "df_three.head(3)"
   ]
  },
  {
   "cell_type": "markdown",
   "id": "ffa8ffd3",
   "metadata": {},
   "source": [
    "###  for essay_set = 4 the combined score is max(rater_domain1,rater_domain2)"
   ]
  },
  {
   "cell_type": "code",
   "execution_count": 608,
   "id": "9e51b6f5",
   "metadata": {
    "scrolled": true
   },
   "outputs": [
    {
     "data": {
      "text/html": [
       "<div>\n",
       "<style scoped>\n",
       "    .dataframe tbody tr th:only-of-type {\n",
       "        vertical-align: middle;\n",
       "    }\n",
       "\n",
       "    .dataframe tbody tr th {\n",
       "        vertical-align: top;\n",
       "    }\n",
       "\n",
       "    .dataframe thead th {\n",
       "        text-align: right;\n",
       "    }\n",
       "</style>\n",
       "<table border=\"1\" class=\"dataframe\">\n",
       "  <thead>\n",
       "    <tr style=\"text-align: right;\">\n",
       "      <th></th>\n",
       "      <th>essay_set</th>\n",
       "      <th>essay</th>\n",
       "      <th>domain1_score</th>\n",
       "    </tr>\n",
       "  </thead>\n",
       "  <tbody>\n",
       "    <tr>\n",
       "      <th>0</th>\n",
       "      <td>4</td>\n",
       "      <td>The author concludes the story with this becau...</td>\n",
       "      <td>0</td>\n",
       "    </tr>\n",
       "    <tr>\n",
       "      <th>1</th>\n",
       "      <td>4</td>\n",
       "      <td>The narrater has that in with Paragraph becuse...</td>\n",
       "      <td>0</td>\n",
       "    </tr>\n",
       "    <tr>\n",
       "      <th>2</th>\n",
       "      <td>4</td>\n",
       "      <td>The author concludes the story with that passa...</td>\n",
       "      <td>3</td>\n",
       "    </tr>\n",
       "  </tbody>\n",
       "</table>\n",
       "</div>"
      ],
      "text/plain": [
       "   essay_set                                              essay  domain1_score\n",
       "0          4  The author concludes the story with this becau...              0\n",
       "1          4  The narrater has that in with Paragraph becuse...              0\n",
       "2          4  The author concludes the story with that passa...              3"
      ]
     },
     "execution_count": 608,
     "metadata": {},
     "output_type": "execute_result"
    }
   ],
   "source": [
    "null_counts = df_four.isnull().sum()\n",
    "columns_with_nulls = null_counts[null_counts > 1].index.tolist()\n",
    "df_four.drop(columns_with_nulls,axis=1,inplace = True)\n",
    "df_four.drop(['rater1_domain1','rater2_domain1','index'],axis = 1,inplace = True)\n",
    "df_four.head(3)"
   ]
  },
  {
   "cell_type": "markdown",
   "id": "8e673aa3",
   "metadata": {},
   "source": [
    "###  for essay_set = 5 the combined score is max(rater_domain1,rater_domain2)"
   ]
  },
  {
   "cell_type": "code",
   "execution_count": 609,
   "id": "b8e0dd76",
   "metadata": {},
   "outputs": [
    {
     "data": {
      "text/html": [
       "<div>\n",
       "<style scoped>\n",
       "    .dataframe tbody tr th:only-of-type {\n",
       "        vertical-align: middle;\n",
       "    }\n",
       "\n",
       "    .dataframe tbody tr th {\n",
       "        vertical-align: top;\n",
       "    }\n",
       "\n",
       "    .dataframe thead th {\n",
       "        text-align: right;\n",
       "    }\n",
       "</style>\n",
       "<table border=\"1\" class=\"dataframe\">\n",
       "  <thead>\n",
       "    <tr style=\"text-align: right;\">\n",
       "      <th></th>\n",
       "      <th>essay_set</th>\n",
       "      <th>essay</th>\n",
       "      <th>domain1_score</th>\n",
       "    </tr>\n",
       "  </thead>\n",
       "  <tbody>\n",
       "    <tr>\n",
       "      <th>0</th>\n",
       "      <td>5</td>\n",
       "      <td>In this memoir of Narciso Rodriguez, @PERSON3'...</td>\n",
       "      <td>2</td>\n",
       "    </tr>\n",
       "    <tr>\n",
       "      <th>1</th>\n",
       "      <td>5</td>\n",
       "      <td>Throughout the excerpt from Home the Blueprint...</td>\n",
       "      <td>2</td>\n",
       "    </tr>\n",
       "    <tr>\n",
       "      <th>2</th>\n",
       "      <td>5</td>\n",
       "      <td>The mood the author created in the memoir is l...</td>\n",
       "      <td>3</td>\n",
       "    </tr>\n",
       "  </tbody>\n",
       "</table>\n",
       "</div>"
      ],
      "text/plain": [
       "   essay_set                                              essay  domain1_score\n",
       "0          5  In this memoir of Narciso Rodriguez, @PERSON3'...              2\n",
       "1          5  Throughout the excerpt from Home the Blueprint...              2\n",
       "2          5  The mood the author created in the memoir is l...              3"
      ]
     },
     "execution_count": 609,
     "metadata": {},
     "output_type": "execute_result"
    }
   ],
   "source": [
    "null_counts = df_five.isnull().sum()\n",
    "columns_with_nulls = null_counts[null_counts > 1].index.tolist()\n",
    "df_five.drop(columns_with_nulls,axis=1,inplace = True)\n",
    "df_five.drop(['rater1_domain1','rater2_domain1','index'],axis = 1,inplace = True)\n",
    "df_five.head(3)"
   ]
  },
  {
   "cell_type": "markdown",
   "id": "619ffe82",
   "metadata": {},
   "source": [
    "###  for essay_set = 6 the combined score is max(rater_domain1,rater_domain2)"
   ]
  },
  {
   "cell_type": "code",
   "execution_count": 610,
   "id": "5b880c66",
   "metadata": {
    "scrolled": true
   },
   "outputs": [
    {
     "data": {
      "text/html": [
       "<div>\n",
       "<style scoped>\n",
       "    .dataframe tbody tr th:only-of-type {\n",
       "        vertical-align: middle;\n",
       "    }\n",
       "\n",
       "    .dataframe tbody tr th {\n",
       "        vertical-align: top;\n",
       "    }\n",
       "\n",
       "    .dataframe thead th {\n",
       "        text-align: right;\n",
       "    }\n",
       "</style>\n",
       "<table border=\"1\" class=\"dataframe\">\n",
       "  <thead>\n",
       "    <tr style=\"text-align: right;\">\n",
       "      <th></th>\n",
       "      <th>essay_set</th>\n",
       "      <th>essay</th>\n",
       "      <th>domain1_score</th>\n",
       "    </tr>\n",
       "  </thead>\n",
       "  <tbody>\n",
       "    <tr>\n",
       "      <th>0</th>\n",
       "      <td>6</td>\n",
       "      <td>There were many obstacles that the builders fa...</td>\n",
       "      <td>2</td>\n",
       "    </tr>\n",
       "    <tr>\n",
       "      <th>1</th>\n",
       "      <td>6</td>\n",
       "      <td>Him from the start, there would have been many...</td>\n",
       "      <td>3</td>\n",
       "    </tr>\n",
       "    <tr>\n",
       "      <th>2</th>\n",
       "      <td>6</td>\n",
       "      <td>The builders of the Empire State Building face...</td>\n",
       "      <td>4</td>\n",
       "    </tr>\n",
       "  </tbody>\n",
       "</table>\n",
       "</div>"
      ],
      "text/plain": [
       "   essay_set                                              essay  domain1_score\n",
       "0          6  There were many obstacles that the builders fa...              2\n",
       "1          6  Him from the start, there would have been many...              3\n",
       "2          6  The builders of the Empire State Building face...              4"
      ]
     },
     "execution_count": 610,
     "metadata": {},
     "output_type": "execute_result"
    }
   ],
   "source": [
    "null_counts = df_six.isnull().sum()\n",
    "columns_with_nulls = null_counts[null_counts > 1].index.tolist()\n",
    "df_six.drop(columns_with_nulls,axis=1,inplace = True)\n",
    "df_six.drop(['rater1_domain1','rater2_domain1','index'],axis = 1,inplace = True)\n",
    "df_six.head(3)"
   ]
  },
  {
   "cell_type": "markdown",
   "id": "00889cf0",
   "metadata": {},
   "source": [
    "### Here we can see domain_1 score = rater1_domain1+rater2_domain1 therefore we drop the columns"
   ]
  },
  {
   "cell_type": "code",
   "execution_count": 611,
   "id": "8a7acf0e",
   "metadata": {},
   "outputs": [
    {
     "data": {
      "text/plain": [
       "index                0\n",
       "essay_set            0\n",
       "essay                0\n",
       "rater1_domain1       0\n",
       "rater2_domain1       0\n",
       "rater3_domain1    1569\n",
       "domain1_score        0\n",
       "rater1_domain2    1569\n",
       "rater2_domain2    1569\n",
       "domain2_score     1569\n",
       "rater1_trait1        0\n",
       "rater1_trait2        0\n",
       "rater1_trait3        0\n",
       "rater1_trait4        0\n",
       "rater1_trait5     1569\n",
       "rater1_trait6     1569\n",
       "rater2_trait1        0\n",
       "rater2_trait2        0\n",
       "rater2_trait3        0\n",
       "rater2_trait4        0\n",
       "rater2_trait5     1569\n",
       "rater2_trait6     1569\n",
       "rater3_trait1     1569\n",
       "rater3_trait2     1569\n",
       "rater3_trait3     1569\n",
       "rater3_trait4     1569\n",
       "rater3_trait5     1569\n",
       "rater3_trait6     1569\n",
       "dtype: int64"
      ]
     },
     "execution_count": 611,
     "metadata": {},
     "output_type": "execute_result"
    }
   ],
   "source": [
    "df_seven.isnull().sum()"
   ]
  },
  {
   "cell_type": "code",
   "execution_count": 612,
   "id": "0f9db8f0",
   "metadata": {
    "scrolled": true
   },
   "outputs": [
    {
     "data": {
      "text/html": [
       "<div>\n",
       "<style scoped>\n",
       "    .dataframe tbody tr th:only-of-type {\n",
       "        vertical-align: middle;\n",
       "    }\n",
       "\n",
       "    .dataframe tbody tr th {\n",
       "        vertical-align: top;\n",
       "    }\n",
       "\n",
       "    .dataframe thead th {\n",
       "        text-align: right;\n",
       "    }\n",
       "</style>\n",
       "<table border=\"1\" class=\"dataframe\">\n",
       "  <thead>\n",
       "    <tr style=\"text-align: right;\">\n",
       "      <th></th>\n",
       "      <th>essay_set</th>\n",
       "      <th>essay</th>\n",
       "      <th>domain1_score</th>\n",
       "    </tr>\n",
       "  </thead>\n",
       "  <tbody>\n",
       "    <tr>\n",
       "      <th>0</th>\n",
       "      <td>7</td>\n",
       "      <td>Patience is when your waiting .I was patience ...</td>\n",
       "      <td>15</td>\n",
       "    </tr>\n",
       "    <tr>\n",
       "      <th>1</th>\n",
       "      <td>7</td>\n",
       "      <td>I am not a patience person, like I can’t sit i...</td>\n",
       "      <td>13</td>\n",
       "    </tr>\n",
       "    <tr>\n",
       "      <th>2</th>\n",
       "      <td>7</td>\n",
       "      <td>One day I was at basketball practice and I was...</td>\n",
       "      <td>15</td>\n",
       "    </tr>\n",
       "  </tbody>\n",
       "</table>\n",
       "</div>"
      ],
      "text/plain": [
       "   essay_set                                              essay  domain1_score\n",
       "0          7  Patience is when your waiting .I was patience ...             15\n",
       "1          7  I am not a patience person, like I can’t sit i...             13\n",
       "2          7  One day I was at basketball practice and I was...             15"
      ]
     },
     "execution_count": 612,
     "metadata": {},
     "output_type": "execute_result"
    }
   ],
   "source": [
    "null_counts = df_seven.isnull().sum()\n",
    "columns_with_nulls = null_counts[null_counts > 1].index.tolist()\n",
    "df_seven.drop(columns_with_nulls,axis=1,inplace = True)\n",
    "\n",
    "df_seven.drop(['rater1_domain1','rater2_domain1','index','rater1_trait1','rater1_trait2','rater1_trait3','rater1_trait4','rater2_trait1','rater2_trait2','rater2_trait3','rater2_trait4'],axis = 1,inplace = True)\n",
    "df_seven.head(3)"
   ]
  },
  {
   "cell_type": "markdown",
   "id": "7c1b0e5a",
   "metadata": {},
   "source": [
    "### Essay 8\n",
    "    For most essays:\n",
    "        = (I_R1+I_R2)  +  (O_R1+O_R2)  + (S_R1+S_R2)  +  2 (C_R1+C_R2)\n",
    "    When there is Rater 3 set of scores for the essay then the Total Composite Score formula changes to:\n",
    "        =  2 (I_R3) + 2 (O_R3) + 2 (S_R3) + 4 (C_R3)    or equivalently   2 (I+O+S+C) +  2 (C)\n"
   ]
  },
  {
   "cell_type": "code",
   "execution_count": 613,
   "id": "6d7a5d90",
   "metadata": {},
   "outputs": [
    {
     "data": {
      "text/html": [
       "<div>\n",
       "<style scoped>\n",
       "    .dataframe tbody tr th:only-of-type {\n",
       "        vertical-align: middle;\n",
       "    }\n",
       "\n",
       "    .dataframe tbody tr th {\n",
       "        vertical-align: top;\n",
       "    }\n",
       "\n",
       "    .dataframe thead th {\n",
       "        text-align: right;\n",
       "    }\n",
       "</style>\n",
       "<table border=\"1\" class=\"dataframe\">\n",
       "  <thead>\n",
       "    <tr style=\"text-align: right;\">\n",
       "      <th></th>\n",
       "      <th>essay_set</th>\n",
       "      <th>essay</th>\n",
       "      <th>domain1_score</th>\n",
       "    </tr>\n",
       "  </thead>\n",
       "  <tbody>\n",
       "    <tr>\n",
       "      <th>0</th>\n",
       "      <td>8</td>\n",
       "      <td>A long time ago when I was in third grade I h...</td>\n",
       "      <td>34</td>\n",
       "    </tr>\n",
       "    <tr>\n",
       "      <th>1</th>\n",
       "      <td>8</td>\n",
       "      <td>Softball has to be one of the single most gre...</td>\n",
       "      <td>46</td>\n",
       "    </tr>\n",
       "    <tr>\n",
       "      <th>2</th>\n",
       "      <td>8</td>\n",
       "      <td>Some people like making people laugh, I love ...</td>\n",
       "      <td>40</td>\n",
       "    </tr>\n",
       "  </tbody>\n",
       "</table>\n",
       "</div>"
      ],
      "text/plain": [
       "   essay_set                                              essay  domain1_score\n",
       "0          8   A long time ago when I was in third grade I h...             34\n",
       "1          8   Softball has to be one of the single most gre...             46\n",
       "2          8   Some people like making people laugh, I love ...             40"
      ]
     },
     "execution_count": 613,
     "metadata": {},
     "output_type": "execute_result"
    }
   ],
   "source": [
    "null_counts = df_eight.isnull().sum()\n",
    "columns_with_nulls = null_counts[null_counts > 1].index.tolist()\n",
    "df_eight.drop(columns_with_nulls,axis=1,inplace = True)\n",
    "\n",
    "df_eight.drop(['rater1_domain1','rater2_domain1','index','rater1_trait1','rater1_trait2','rater1_trait3','rater1_trait4','rater2_trait1','rater2_trait2','rater2_trait3','rater2_trait4','rater1_trait5','rater1_trait6','rater2_trait5','rater2_trait6'],axis = 1,inplace = True)\n",
    "df_eight.head(3)"
   ]
  },
  {
   "cell_type": "code",
   "execution_count": 614,
   "id": "65d8c461",
   "metadata": {},
   "outputs": [
    {
     "name": "stderr",
     "output_type": "stream",
     "text": [
      "C:\\Users\\hs414\\AppData\\Local\\Temp\\ipykernel_3052\\1613348815.py:1: FutureWarning: The frame.append method is deprecated and will be removed from pandas in a future version. Use pandas.concat instead.\n",
      "  final_df = df_one.append([df_two,df_three,df_four,df_five,df_six,df_seven,df_eight])\n"
     ]
    }
   ],
   "source": [
    "final_df = df_one.append([df_two,df_three,df_four,df_five,df_six,df_seven,df_eight])"
   ]
  },
  {
   "cell_type": "code",
   "execution_count": 615,
   "id": "0e10294a",
   "metadata": {},
   "outputs": [],
   "source": [
    "#final_df.to_csv('final_df.csv', index=False)"
   ]
  },
  {
   "cell_type": "code",
   "execution_count": 616,
   "id": "bf5df270",
   "metadata": {},
   "outputs": [],
   "source": [
    "train_df = pd.read_csv('final_df.csv')"
   ]
  },
  {
   "cell_type": "code",
   "execution_count": 617,
   "id": "e992be64",
   "metadata": {},
   "outputs": [
    {
     "data": {
      "text/html": [
       "<div>\n",
       "<style scoped>\n",
       "    .dataframe tbody tr th:only-of-type {\n",
       "        vertical-align: middle;\n",
       "    }\n",
       "\n",
       "    .dataframe tbody tr th {\n",
       "        vertical-align: top;\n",
       "    }\n",
       "\n",
       "    .dataframe thead th {\n",
       "        text-align: right;\n",
       "    }\n",
       "</style>\n",
       "<table border=\"1\" class=\"dataframe\">\n",
       "  <thead>\n",
       "    <tr style=\"text-align: right;\">\n",
       "      <th></th>\n",
       "      <th>essay_set</th>\n",
       "      <th>essay</th>\n",
       "      <th>domain1_score</th>\n",
       "    </tr>\n",
       "  </thead>\n",
       "  <tbody>\n",
       "    <tr>\n",
       "      <th>0</th>\n",
       "      <td>1</td>\n",
       "      <td>Dear local newspaper, I think effects computer...</td>\n",
       "      <td>8</td>\n",
       "    </tr>\n",
       "    <tr>\n",
       "      <th>1</th>\n",
       "      <td>1</td>\n",
       "      <td>Dear @CAPS1 @CAPS2, I believe that using compu...</td>\n",
       "      <td>9</td>\n",
       "    </tr>\n",
       "    <tr>\n",
       "      <th>2</th>\n",
       "      <td>1</td>\n",
       "      <td>Dear, @CAPS1 @CAPS2 @CAPS3 More and more peopl...</td>\n",
       "      <td>7</td>\n",
       "    </tr>\n",
       "    <tr>\n",
       "      <th>3</th>\n",
       "      <td>1</td>\n",
       "      <td>Dear Local Newspaper, @CAPS1 I have found that...</td>\n",
       "      <td>10</td>\n",
       "    </tr>\n",
       "    <tr>\n",
       "      <th>4</th>\n",
       "      <td>1</td>\n",
       "      <td>Dear @LOCATION1, I know having computers has a...</td>\n",
       "      <td>8</td>\n",
       "    </tr>\n",
       "  </tbody>\n",
       "</table>\n",
       "</div>"
      ],
      "text/plain": [
       "   essay_set                                              essay  domain1_score\n",
       "0          1  Dear local newspaper, I think effects computer...              8\n",
       "1          1  Dear @CAPS1 @CAPS2, I believe that using compu...              9\n",
       "2          1  Dear, @CAPS1 @CAPS2 @CAPS3 More and more peopl...              7\n",
       "3          1  Dear Local Newspaper, @CAPS1 I have found that...             10\n",
       "4          1  Dear @LOCATION1, I know having computers has a...              8"
      ]
     },
     "execution_count": 617,
     "metadata": {},
     "output_type": "execute_result"
    }
   ],
   "source": [
    "train_df.head(5)"
   ]
  },
  {
   "cell_type": "code",
   "execution_count": 618,
   "id": "754e6735",
   "metadata": {},
   "outputs": [
    {
     "data": {
      "text/html": [
       "<div>\n",
       "<style scoped>\n",
       "    .dataframe tbody tr th:only-of-type {\n",
       "        vertical-align: middle;\n",
       "    }\n",
       "\n",
       "    .dataframe tbody tr th {\n",
       "        vertical-align: top;\n",
       "    }\n",
       "\n",
       "    .dataframe thead th {\n",
       "        text-align: right;\n",
       "    }\n",
       "</style>\n",
       "<table border=\"1\" class=\"dataframe\">\n",
       "  <thead>\n",
       "    <tr style=\"text-align: right;\">\n",
       "      <th></th>\n",
       "      <th>essay_set</th>\n",
       "      <th>essay</th>\n",
       "      <th>combined_score</th>\n",
       "    </tr>\n",
       "  </thead>\n",
       "  <tbody>\n",
       "    <tr>\n",
       "      <th>0</th>\n",
       "      <td>1</td>\n",
       "      <td>Dear local newspaper, I think effects computer...</td>\n",
       "      <td>8</td>\n",
       "    </tr>\n",
       "    <tr>\n",
       "      <th>1</th>\n",
       "      <td>1</td>\n",
       "      <td>Dear @CAPS1 @CAPS2, I believe that using compu...</td>\n",
       "      <td>9</td>\n",
       "    </tr>\n",
       "    <tr>\n",
       "      <th>2</th>\n",
       "      <td>1</td>\n",
       "      <td>Dear, @CAPS1 @CAPS2 @CAPS3 More and more peopl...</td>\n",
       "      <td>7</td>\n",
       "    </tr>\n",
       "    <tr>\n",
       "      <th>3</th>\n",
       "      <td>1</td>\n",
       "      <td>Dear Local Newspaper, @CAPS1 I have found that...</td>\n",
       "      <td>10</td>\n",
       "    </tr>\n",
       "    <tr>\n",
       "      <th>4</th>\n",
       "      <td>1</td>\n",
       "      <td>Dear @LOCATION1, I know having computers has a...</td>\n",
       "      <td>8</td>\n",
       "    </tr>\n",
       "  </tbody>\n",
       "</table>\n",
       "</div>"
      ],
      "text/plain": [
       "   essay_set                                              essay  \\\n",
       "0          1  Dear local newspaper, I think effects computer...   \n",
       "1          1  Dear @CAPS1 @CAPS2, I believe that using compu...   \n",
       "2          1  Dear, @CAPS1 @CAPS2 @CAPS3 More and more peopl...   \n",
       "3          1  Dear Local Newspaper, @CAPS1 I have found that...   \n",
       "4          1  Dear @LOCATION1, I know having computers has a...   \n",
       "\n",
       "   combined_score  \n",
       "0               8  \n",
       "1               9  \n",
       "2               7  \n",
       "3              10  \n",
       "4               8  "
      ]
     },
     "execution_count": 618,
     "metadata": {},
     "output_type": "execute_result"
    }
   ],
   "source": [
    "train_df['combined_score'] = train_df['domain1_score']\n",
    "train_df.drop('domain1_score',axis=1,inplace=True)\n",
    "train_df.head(5)"
   ]
  },
  {
   "cell_type": "code",
   "execution_count": 619,
   "id": "ffadc33e",
   "metadata": {},
   "outputs": [],
   "source": [
    "train_df_copy = train_df.copy()"
   ]
  },
  {
   "cell_type": "code",
   "execution_count": 620,
   "id": "c499c163",
   "metadata": {},
   "outputs": [],
   "source": [
    "set_ranges = {\n",
    "    1: (2, 12),\n",
    "    2: (2, 10),\n",
    "    3: (0, 3),\n",
    "    4: (0, 3),\n",
    "    5: (0, 4),\n",
    "    6: (0, 4),\n",
    "    7: (0, 30),\n",
    "    8: (0, 60)\n",
    "}\n",
    "\n",
    "# Apply min-max scaling within each essay set\n",
    "train_df_copy['scaled_score'] = train_df_copy.groupby('essay_set')['combined_score'].apply(\n",
    "    lambda x: (x - x.min()) / (x.max() - x.min()) * (set_ranges[x.name][1] - set_ranges[x.name][0]) + set_ranges[x.name][0]\n",
    ")"
   ]
  },
  {
   "cell_type": "code",
   "execution_count": null,
   "id": "141adb72",
   "metadata": {},
   "outputs": [],
   "source": []
  },
  {
   "cell_type": "code",
   "execution_count": 621,
   "id": "9edb854a",
   "metadata": {},
   "outputs": [
    {
     "data": {
      "text/html": [
       "<div>\n",
       "<style scoped>\n",
       "    .dataframe tbody tr th:only-of-type {\n",
       "        vertical-align: middle;\n",
       "    }\n",
       "\n",
       "    .dataframe tbody tr th {\n",
       "        vertical-align: top;\n",
       "    }\n",
       "\n",
       "    .dataframe thead th {\n",
       "        text-align: right;\n",
       "    }\n",
       "</style>\n",
       "<table border=\"1\" class=\"dataframe\">\n",
       "  <thead>\n",
       "    <tr style=\"text-align: right;\">\n",
       "      <th></th>\n",
       "      <th>essay_set</th>\n",
       "      <th>essay</th>\n",
       "      <th>combined_score</th>\n",
       "      <th>scaled_score</th>\n",
       "    </tr>\n",
       "  </thead>\n",
       "  <tbody>\n",
       "    <tr>\n",
       "      <th>0</th>\n",
       "      <td>1</td>\n",
       "      <td>Dear local newspaper, I think effects computer...</td>\n",
       "      <td>8</td>\n",
       "      <td>8.0</td>\n",
       "    </tr>\n",
       "    <tr>\n",
       "      <th>1</th>\n",
       "      <td>1</td>\n",
       "      <td>Dear @CAPS1 @CAPS2, I believe that using compu...</td>\n",
       "      <td>9</td>\n",
       "      <td>9.0</td>\n",
       "    </tr>\n",
       "    <tr>\n",
       "      <th>2</th>\n",
       "      <td>1</td>\n",
       "      <td>Dear, @CAPS1 @CAPS2 @CAPS3 More and more peopl...</td>\n",
       "      <td>7</td>\n",
       "      <td>7.0</td>\n",
       "    </tr>\n",
       "    <tr>\n",
       "      <th>3</th>\n",
       "      <td>1</td>\n",
       "      <td>Dear Local Newspaper, @CAPS1 I have found that...</td>\n",
       "      <td>10</td>\n",
       "      <td>10.0</td>\n",
       "    </tr>\n",
       "    <tr>\n",
       "      <th>4</th>\n",
       "      <td>1</td>\n",
       "      <td>Dear @LOCATION1, I know having computers has a...</td>\n",
       "      <td>8</td>\n",
       "      <td>8.0</td>\n",
       "    </tr>\n",
       "  </tbody>\n",
       "</table>\n",
       "</div>"
      ],
      "text/plain": [
       "   essay_set                                              essay  \\\n",
       "0          1  Dear local newspaper, I think effects computer...   \n",
       "1          1  Dear @CAPS1 @CAPS2, I believe that using compu...   \n",
       "2          1  Dear, @CAPS1 @CAPS2 @CAPS3 More and more peopl...   \n",
       "3          1  Dear Local Newspaper, @CAPS1 I have found that...   \n",
       "4          1  Dear @LOCATION1, I know having computers has a...   \n",
       "\n",
       "   combined_score  scaled_score  \n",
       "0               8           8.0  \n",
       "1               9           9.0  \n",
       "2               7           7.0  \n",
       "3              10          10.0  \n",
       "4               8           8.0  "
      ]
     },
     "execution_count": 621,
     "metadata": {},
     "output_type": "execute_result"
    }
   ],
   "source": [
    "train_df_copy.head()"
   ]
  },
  {
   "cell_type": "code",
   "execution_count": 622,
   "id": "07ecfa54",
   "metadata": {},
   "outputs": [],
   "source": [
    "train_df_copy.drop('combined_score',axis=1,inplace = True)"
   ]
  },
  {
   "cell_type": "code",
   "execution_count": 623,
   "id": "e920f3fa",
   "metadata": {},
   "outputs": [],
   "source": [
    "#train_df_copy.to_csv('train.csv', index=False)"
   ]
  },
  {
   "cell_type": "code",
   "execution_count": 624,
   "id": "bd08288b",
   "metadata": {},
   "outputs": [
    {
     "data": {
      "text/plain": [
       "(12977, 3)"
      ]
     },
     "execution_count": 624,
     "metadata": {},
     "output_type": "execute_result"
    }
   ],
   "source": [
    "train_df_copy.shape"
   ]
  },
  {
   "cell_type": "code",
   "execution_count": null,
   "id": "57f91a7d",
   "metadata": {},
   "outputs": [],
   "source": []
  },
  {
   "cell_type": "code",
   "execution_count": null,
   "id": "733f32e7",
   "metadata": {},
   "outputs": [],
   "source": []
  }
 ],
 "metadata": {
  "kernelspec": {
   "display_name": "Python 3 (ipykernel)",
   "language": "python",
   "name": "python3"
  },
  "language_info": {
   "codemirror_mode": {
    "name": "ipython",
    "version": 3
   },
   "file_extension": ".py",
   "mimetype": "text/x-python",
   "name": "python",
   "nbconvert_exporter": "python",
   "pygments_lexer": "ipython3",
   "version": "3.9.13"
  }
 },
 "nbformat": 4,
 "nbformat_minor": 5
}
